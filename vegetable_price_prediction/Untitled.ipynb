{
 "cells": [
  {
   "cell_type": "code",
   "execution_count": 1,
   "id": "7af6f0b5-777c-4b3a-8325-b993cb65b297",
   "metadata": {},
   "outputs": [],
   "source": [
    "# Importing necessary packages\n",
    "import pandas as pd\n",
    "import numpy as np\n",
    "import matplotlib.pyplot as plt\n",
    "import seaborn as sns\n",
    "\n",
    "import warnings\n",
    "warnings.filterwarnings('ignore')"
   ]
  },
  {
   "cell_type": "code",
   "execution_count": 2,
   "id": "e9c9575f-8f89-4050-9958-001f610c0131",
   "metadata": {},
   "outputs": [],
   "source": [
    "# Creating demo dataset\n",
    "column1 = np.array([2,4,5,3,6,5,7])\n",
    "column2 = np.array([35,60,20,50,50,55,60])"
   ]
  },
  {
   "cell_type": "code",
   "execution_count": 3,
   "id": "5ab44151-3487-44ba-8d60-96854f85f816",
   "metadata": {},
   "outputs": [
    {
     "data": {
      "text/html": [
       "<div>\n",
       "<style scoped>\n",
       "    .dataframe tbody tr th:only-of-type {\n",
       "        vertical-align: middle;\n",
       "    }\n",
       "\n",
       "    .dataframe tbody tr th {\n",
       "        vertical-align: top;\n",
       "    }\n",
       "\n",
       "    .dataframe thead th {\n",
       "        text-align: right;\n",
       "    }\n",
       "</style>\n",
       "<table border=\"1\" class=\"dataframe\">\n",
       "  <thead>\n",
       "    <tr style=\"text-align: right;\">\n",
       "      <th></th>\n",
       "      <th>Weight</th>\n",
       "      <th>Price</th>\n",
       "    </tr>\n",
       "  </thead>\n",
       "  <tbody>\n",
       "    <tr>\n",
       "      <th>0</th>\n",
       "      <td>2</td>\n",
       "      <td>35</td>\n",
       "    </tr>\n",
       "    <tr>\n",
       "      <th>1</th>\n",
       "      <td>4</td>\n",
       "      <td>60</td>\n",
       "    </tr>\n",
       "    <tr>\n",
       "      <th>2</th>\n",
       "      <td>5</td>\n",
       "      <td>20</td>\n",
       "    </tr>\n",
       "    <tr>\n",
       "      <th>3</th>\n",
       "      <td>3</td>\n",
       "      <td>50</td>\n",
       "    </tr>\n",
       "    <tr>\n",
       "      <th>4</th>\n",
       "      <td>6</td>\n",
       "      <td>50</td>\n",
       "    </tr>\n",
       "  </tbody>\n",
       "</table>\n",
       "</div>"
      ],
      "text/plain": [
       "   Weight  Price\n",
       "0       2     35\n",
       "1       4     60\n",
       "2       5     20\n",
       "3       3     50\n",
       "4       6     50"
      ]
     },
     "execution_count": 3,
     "metadata": {},
     "output_type": "execute_result"
    }
   ],
   "source": [
    "vegetable_df = pd.DataFrame({'Weight':column1, 'Price':column2})\n",
    "vegetable_df.head()"
   ]
  },
  {
   "cell_type": "code",
   "execution_count": 4,
   "id": "7f91bb19-7fb2-4fa7-bc6f-8e8c6e5b187b",
   "metadata": {},
   "outputs": [
    {
     "data": {
      "text/plain": [
       "(7, 2)"
      ]
     },
     "execution_count": 4,
     "metadata": {},
     "output_type": "execute_result"
    }
   ],
   "source": [
    "vegetable_df.shape"
   ]
  },
  {
   "cell_type": "code",
   "execution_count": 5,
   "id": "175acc69-f895-4f1b-8309-6b5836968a07",
   "metadata": {},
   "outputs": [
    {
     "name": "stdout",
     "output_type": "stream",
     "text": [
      "<class 'pandas.core.frame.DataFrame'>\n",
      "RangeIndex: 7 entries, 0 to 6\n",
      "Data columns (total 2 columns):\n",
      " #   Column  Non-Null Count  Dtype\n",
      "---  ------  --------------  -----\n",
      " 0   Weight  7 non-null      int32\n",
      " 1   Price   7 non-null      int32\n",
      "dtypes: int32(2)\n",
      "memory usage: 188.0 bytes\n"
     ]
    }
   ],
   "source": [
    "vegetable_df.info()"
   ]
  },
  {
   "cell_type": "markdown",
   "id": "d19f2fd0-5163-42e4-8a65-647a6c22f1bc",
   "metadata": {},
   "source": [
    "<br><br>\n",
    "## Task 01: Manual calculation of Coefficient and Intercept"
   ]
  },
  {
   "cell_type": "code",
   "execution_count": 6,
   "id": "48c19aee-8ca7-4e0b-b884-7fa641088e8c",
   "metadata": {},
   "outputs": [],
   "source": [
    "# mean of both columns\n",
    "weight_mean = vegetable_df['Weight'].mean()\n",
    "price_mean = vegetable_df['Price'].mean()\n",
    "\n",
    "dev_weight = vegetable_df['Weight'] - weight_mean\n",
    "dev_price = vegetable_df['Price'] - price_mean"
   ]
  },
  {
   "cell_type": "markdown",
   "id": "90fdfbb7-49c4-44f4-8cbf-8acee2c27116",
   "metadata": {},
   "source": [
    "### - Calculating Coefficient \n",
    "Formula: <br>\n",
    "<img src='https://img001.prntscr.com/file/img001/8MVRig8ESLKgKazLZzdHhw.png' width='300px'>"
   ]
  },
  {
   "cell_type": "code",
   "execution_count": 7,
   "id": "1385fe37-2f62-4be1-9de7-7e5dec91f9fa",
   "metadata": {},
   "outputs": [
    {
     "name": "stdout",
     "output_type": "stream",
     "text": [
      "\n",
      "Coefficient of vegetable dataset:  2.62\n"
     ]
    }
   ],
   "source": [
    "m = np.sum(dev_weight*dev_price) / np.sum(dev_weight ** 2)\n",
    "\n",
    "print('\\nCoefficient of vegetable dataset: ', round(m,2))"
   ]
  },
  {
   "cell_type": "markdown",
   "id": "f330a7ff-b5a8-4d32-8f1a-18bb6f0480b3",
   "metadata": {},
   "source": [
    "### - Calculating Intercept\n",
    "**Formula:**    <i>c = y - mx</i>\n"
   ]
  },
  {
   "cell_type": "code",
   "execution_count": 8,
   "id": "cf38f29f-114b-4aa2-a597-869d032b4b22",
   "metadata": {},
   "outputs": [
    {
     "name": "stdout",
     "output_type": "stream",
     "text": [
      "\n",
      "Intercept of vegetable dataset:  35.16\n"
     ]
    }
   ],
   "source": [
    "c = price_mean - (m*weight_mean)\n",
    "\n",
    "print(\"\\nIntercept of vegetable dataset: \", round(c,2))"
   ]
  },
  {
   "cell_type": "markdown",
   "id": "b2c1bffe-50a5-4bba-aff7-77dc59a39087",
   "metadata": {},
   "source": [
    "### - Prediction of weight value 6"
   ]
  },
  {
   "cell_type": "code",
   "execution_count": 9,
   "id": "61f2d643-cda4-4482-ab0a-ec7ba24bccef",
   "metadata": {},
   "outputs": [
    {
     "name": "stdout",
     "output_type": "stream",
     "text": [
      "\n",
      "Price prediction of vegetable weight 6:  50.89\n"
     ]
    }
   ],
   "source": [
    "# y = mx + c\n",
    "pred_6 = m*6 + c\n",
    "\n",
    "print(\"\\nPrice prediction of vegetable weight 6: \", round(pred_6,2))"
   ]
  },
  {
   "cell_type": "code",
   "execution_count": null,
   "id": "328aa9ef-dbe4-4df6-b8cc-950583d4920f",
   "metadata": {},
   "outputs": [],
   "source": []
  },
  {
   "cell_type": "markdown",
   "id": "9f28d990-e1bf-43c5-8cff-3f942d1ce450",
   "metadata": {},
   "source": [
    "### Using sklearn"
   ]
  },
  {
   "cell_type": "code",
   "execution_count": 10,
   "id": "084761de-00ec-4e08-8e9e-9c55b08b8674",
   "metadata": {},
   "outputs": [],
   "source": [
    "from sklearn.linear_model import LinearRegression\n",
    "from sklearn.metrics import mean_squared_error, mean_absolute_error"
   ]
  },
  {
   "cell_type": "code",
   "execution_count": 11,
   "id": "9415b5dc-452e-4dba-a4bf-8dd2eec094d4",
   "metadata": {},
   "outputs": [
    {
     "data": {
      "image/png": "[encoded data removed]",
      "text/plain": [
       "<Figure size 640x480 with 1 Axes>"
      ]
     },
     "metadata": {},
     "output_type": "display_data"
    }
   ],
   "source": [
    "sns.regplot(data=vegetable_df, x='Weight', y='Price')\n",
    "plt.show()"
   ]
  },
  {
   "cell_type": "code",
   "execution_count": 12,
   "id": "7e01247e-058c-46c2-9403-b443aa883932",
   "metadata": {},
   "outputs": [
    {
     "data": {
      "text/html": [
       "<div>\n",
       "<style scoped>\n",
       "    .dataframe tbody tr th:only-of-type {\n",
       "        vertical-align: middle;\n",
       "    }\n",
       "\n",
       "    .dataframe tbody tr th {\n",
       "        vertical-align: top;\n",
       "    }\n",
       "\n",
       "    .dataframe thead th {\n",
       "        text-align: right;\n",
       "    }\n",
       "</style>\n",
       "<table border=\"1\" class=\"dataframe\">\n",
       "  <thead>\n",
       "    <tr style=\"text-align: right;\">\n",
       "      <th></th>\n",
       "      <th>Weight</th>\n",
       "      <th>Price</th>\n",
       "    </tr>\n",
       "  </thead>\n",
       "  <tbody>\n",
       "    <tr>\n",
       "      <th>Weight</th>\n",
       "      <td>1.000000</td>\n",
       "      <td>0.306795</td>\n",
       "    </tr>\n",
       "    <tr>\n",
       "      <th>Price</th>\n",
       "      <td>0.306795</td>\n",
       "      <td>1.000000</td>\n",
       "    </tr>\n",
       "  </tbody>\n",
       "</table>\n",
       "</div>"
      ],
      "text/plain": [
       "          Weight     Price\n",
       "Weight  1.000000  0.306795\n",
       "Price   0.306795  1.000000"
      ]
     },
     "execution_count": 12,
     "metadata": {},
     "output_type": "execute_result"
    }
   ],
   "source": [
    "vegetable_df.corr()"
   ]
  },
  {
   "cell_type": "code",
   "execution_count": 13,
   "id": "30a4605a-d3fa-480b-bc56-f196ed460b22",
   "metadata": {},
   "outputs": [
    {
     "data": {
      "image/png": "[encoded data removed]",
      "text/plain": [
       "<Figure size 640x480 with 2 Axes>"
      ]
     },
     "metadata": {},
     "output_type": "display_data"
    }
   ],
   "source": [
    "sns.heatmap(data=vegetable_df.corr(), annot=True, cmap='coolwarm')\n",
    "plt.show()"
   ]
  },
  {
   "cell_type": "code",
   "execution_count": 14,
   "id": "e6e70597-c333-4436-9d02-7571f1e6ec9f",
   "metadata": {},
   "outputs": [],
   "source": [
    "# Implementing everything with sklearn"
   ]
  },
  {
   "cell_type": "code",
   "execution_count": 15,
   "id": "10c871ca-a504-4ce5-9596-06e7c67d6216",
   "metadata": {},
   "outputs": [],
   "source": [
    "lin_reg = LinearRegression()"
   ]
  },
  {
   "cell_type": "code",
   "execution_count": 16,
   "id": "a6c14469-7e9f-40cf-b0b8-7ab559601411",
   "metadata": {},
   "outputs": [],
   "source": [
    "x = vegetable_df[['Weight']]\n",
    "y = vegetable_df[['Price']]"
   ]
  },
  {
   "cell_type": "code",
   "execution_count": 17,
   "id": "c78883e9-5f61-44a4-b18b-1aac56f3f1f5",
   "metadata": {},
   "outputs": [
    {
     "data": {
      "text/html": [
       "<style>#sk-container-id-1 {color: black;background-color: white;}#sk-container-id-1 pre{padding: 0;}#sk-container-id-1 div.sk-toggleable {background-color: white;}#sk-container-id-1 label.sk-toggleable__label {cursor: pointer;display: block;width: 100%;margin-bottom: 0;padding: 0.3em;box-sizing: border-box;text-align: center;}#sk-container-id-1 label.sk-toggleable__label-arrow:before {content: \"▸\";float: left;margin-right: 0.25em;color: #696969;}#sk-container-id-1 label.sk-toggleable__label-arrow:hover:before {color: black;}#sk-container-id-1 div.sk-estimator:hover label.sk-toggleable__label-arrow:before {color: black;}#sk-container-id-1 div.sk-toggleable__content {max-height: 0;max-width: 0;overflow: hidden;text-align: left;background-color: #f0f8ff;}#sk-container-id-1 div.sk-toggleable__content pre {margin: 0.2em;color: black;border-radius: 0.25em;background-color: #f0f8ff;}#sk-container-id-1 input.sk-toggleable__control:checked~div.sk-toggleable__content {max-height: 200px;max-width: 100%;overflow: auto;}#sk-container-id-1 input.sk-toggleable__control:checked~label.sk-toggleable__label-arrow:before {content: \"▾\";}#sk-container-id-1 div.sk-estimator input.sk-toggleable__control:checked~label.sk-toggleable__label {background-color: #d4ebff;}#sk-container-id-1 div.sk-label input.sk-toggleable__control:checked~label.sk-toggleable__label {background-color: #d4ebff;}#sk-container-id-1 input.sk-hidden--visually {border: 0;clip: rect(1px 1px 1px 1px);clip: rect(1px, 1px, 1px, 1px);height: 1px;margin: -1px;overflow: hidden;padding: 0;position: absolute;width: 1px;}#sk-container-id-1 div.sk-estimator {font-family: monospace;background-color: #f0f8ff;border: 1px dotted black;border-radius: 0.25em;box-sizing: border-box;margin-bottom: 0.5em;}#sk-container-id-1 div.sk-estimator:hover {background-color: #d4ebff;}#sk-container-id-1 div.sk-parallel-item::after {content: \"\";width: 100%;border-bottom: 1px solid gray;flex-grow: 1;}#sk-container-id-1 div.sk-label:hover label.sk-toggleable__label {background-color: #d4ebff;}#sk-container-id-1 div.sk-serial::before {content: \"\";position: absolute;border-left: 1px solid gray;box-sizing: border-box;top: 0;bottom: 0;left: 50%;z-index: 0;}#sk-container-id-1 div.sk-serial {display: flex;flex-direction: column;align-items: center;background-color: white;padding-right: 0.2em;padding-left: 0.2em;position: relative;}#sk-container-id-1 div.sk-item {position: relative;z-index: 1;}#sk-container-id-1 div.sk-parallel {display: flex;align-items: stretch;justify-content: center;background-color: white;position: relative;}#sk-container-id-1 div.sk-item::before, #sk-container-id-1 div.sk-parallel-item::before {content: \"\";position: absolute;border-left: 1px solid gray;box-sizing: border-box;top: 0;bottom: 0;left: 50%;z-index: -1;}#sk-container-id-1 div.sk-parallel-item {display: flex;flex-direction: column;z-index: 1;position: relative;background-color: white;}#sk-container-id-1 div.sk-parallel-item:first-child::after {align-self: flex-end;width: 50%;}#sk-container-id-1 div.sk-parallel-item:last-child::after {align-self: flex-start;width: 50%;}#sk-container-id-1 div.sk-parallel-item:only-child::after {width: 0;}#sk-container-id-1 div.sk-dashed-wrapped {border: 1px dashed gray;margin: 0 0.4em 0.5em 0.4em;box-sizing: border-box;padding-bottom: 0.4em;background-color: white;}#sk-container-id-1 div.sk-label label {font-family: monospace;font-weight: bold;display: inline-block;line-height: 1.2em;}#sk-container-id-1 div.sk-label-container {text-align: center;}#sk-container-id-1 div.sk-container {/* jupyter's `normalize.less` sets `[hidden] { display: none; }` but bootstrap.min.css set `[hidden] { display: none !important; }` so we also need the `!important` here to be able to override the default hidden behavior on the sphinx rendered scikit-learn.org. See: https://github.com/scikit-learn/scikit-learn/issues/21755 */display: inline-block !important;position: relative;}#sk-container-id-1 div.sk-text-repr-fallback {display: none;}</style><div id=\"sk-container-id-1\" class=\"sk-top-container\"><div class=\"sk-text-repr-fallback\"><pre>LinearRegression()</pre><b>In a Jupyter environment, please rerun this cell to show the HTML representation or trust the notebook. <br />On GitHub, the HTML representation is unable to render, please try loading this page with nbviewer.org.</b></div><div class=\"sk-container\" hidden><div class=\"sk-item\"><div class=\"sk-estimator sk-toggleable\"><input class=\"sk-toggleable__control sk-hidden--visually\" id=\"sk-estimator-id-1\" type=\"checkbox\" checked><label for=\"sk-estimator-id-1\" class=\"sk-toggleable__label sk-toggleable__label-arrow\">LinearRegression</label><div class=\"sk-toggleable__content\"><pre>LinearRegression()</pre></div></div></div></div></div>"
      ],
      "text/plain": [
       "LinearRegression()"
      ]
     },
     "execution_count": 17,
     "metadata": {},
     "output_type": "execute_result"
    }
   ],
   "source": [
    "# fitting data \n",
    "lin_reg.fit(x, y)"
   ]
  },
  {
   "cell_type": "markdown",
   "id": "d47aee2a-a54f-42d5-afd4-a4f9a6e71487",
   "metadata": {},
   "source": [
    "### Coeffiecent and Inercept"
   ]
  },
  {
   "cell_type": "code",
   "execution_count": 18,
   "id": "42dcc5aa-14a7-4461-8e74-88a92be072d4",
   "metadata": {},
   "outputs": [
    {
     "name": "stdout",
     "output_type": "stream",
     "text": [
      "Coefficient of vegetable dataset: [[2.62096774]]\n",
      "Intercept of vegetable dataset: [35.16129032]\n"
     ]
    }
   ],
   "source": [
    "print(f'Coefficient of vegetable dataset: {lin_reg.coef_}\\nIntercept of vegetable dataset: {lin_reg.intercept_}')"
   ]
  },
  {
   "cell_type": "markdown",
   "id": "c43b32d7-337e-47b0-8ae2-324274b4cbec",
   "metadata": {},
   "source": [
    "#### Predicting weight value 6 with sklearn model"
   ]
  },
  {
   "cell_type": "code",
   "execution_count": 19,
   "id": "882fcfc4-fb06-4675-b9fb-2c00c0a96831",
   "metadata": {},
   "outputs": [
    {
     "name": "stdout",
     "output_type": "stream",
     "text": [
      "\n",
      "Price prediction results of vegetable weight 6:  50.89\n"
     ]
    }
   ],
   "source": [
    "pred_6_2 = lin_reg.predict([[6]])\n",
    "print(\"\\nPrice prediction results of vegetable weight 6: \", round(pred_6_2[0,0],2))"
   ]
  },
  {
   "cell_type": "markdown",
   "id": "957866e3-c898-4b90-9f67-7699b8da1f94",
   "metadata": {},
   "source": [
    "<br><br> \n",
    "#### Comparison with previous results"
   ]
  },
  {
   "cell_type": "code",
   "execution_count": 20,
   "id": "e66b27d4-745c-4788-a762-aebfb5b69376",
   "metadata": {},
   "outputs": [
    {
     "name": "stdout",
     "output_type": "stream",
     "text": [
      "Manual Calculation Results:  (2.620967741935484, 35.16129032258065)\n",
      "SKLearn Calculation Results:  (2.620967741935484, 35.16129032258065)\n",
      "\n",
      "Manual Calculation Prediction Results:  50.89\n",
      "SKLearn Calculation Prediction Results:  50.89\n"
     ]
    }
   ],
   "source": [
    "print('Manual Calculation Results: ', (m,c))\n",
    "print('SKLearn Calculation Results: ',(lin_reg.coef_[0,0], lin_reg.intercept_[0]))\n",
    "print('\\nManual Calculation Prediction Results: ',round(pred_6,2))\n",
    "print('SKLearn Calculation Prediction Results: ',round(pred_6_2[0,0],2))"
   ]
  },
  {
   "cell_type": "code",
   "execution_count": null,
   "id": "412db5fb-4d18-48da-a402-4d91adcc0485",
   "metadata": {},
   "outputs": [],
   "source": []
  },
  {
   "cell_type": "markdown",
   "id": "6c56363b-b140-42e0-a0b6-ec08c83bc1f0",
   "metadata": {},
   "source": [
    "<br><br>\n",
    "## Task 02: Compute the residuals for each data point."
   ]
  },
  {
   "cell_type": "code",
   "execution_count": 21,
   "id": "1520484f-d3da-4fa9-846c-124ae4d22f1b",
   "metadata": {},
   "outputs": [],
   "source": [
    "vegetable_df['Predicted_Price'] = lin_reg.predict(vegetable_df[['Weight']])"
   ]
  },
  {
   "cell_type": "code",
   "execution_count": 22,
   "id": "6e6aac8e-be9d-4ff9-b8b3-2be47655c24d",
   "metadata": {},
   "outputs": [],
   "source": [
    "vegetable_df['Residuals'] = vegetable_df['Price'] - vegetable_df['Predicted_Price']"
   ]
  },
  {
   "cell_type": "code",
   "execution_count": 23,
   "id": "86b56b87-da8a-4c6d-a96e-aaaa9c2ab326",
   "metadata": {},
   "outputs": [
    {
     "data": {
      "text/html": [
       "<div>\n",
       "<style scoped>\n",
       "    .dataframe tbody tr th:only-of-type {\n",
       "        vertical-align: middle;\n",
       "    }\n",
       "\n",
       "    .dataframe tbody tr th {\n",
       "        vertical-align: top;\n",
       "    }\n",
       "\n",
       "    .dataframe thead th {\n",
       "        text-align: right;\n",
       "    }\n",
       "</style>\n",
       "<table border=\"1\" class=\"dataframe\">\n",
       "  <thead>\n",
       "    <tr style=\"text-align: right;\">\n",
       "      <th></th>\n",
       "      <th>Weight</th>\n",
       "      <th>Price</th>\n",
       "      <th>Predicted_Price</th>\n",
       "      <th>Residuals</th>\n",
       "    </tr>\n",
       "  </thead>\n",
       "  <tbody>\n",
       "    <tr>\n",
       "      <th>0</th>\n",
       "      <td>2</td>\n",
       "      <td>35</td>\n",
       "      <td>40.403226</td>\n",
       "      <td>-5.403226</td>\n",
       "    </tr>\n",
       "    <tr>\n",
       "      <th>1</th>\n",
       "      <td>4</td>\n",
       "      <td>60</td>\n",
       "      <td>45.645161</td>\n",
       "      <td>14.354839</td>\n",
       "    </tr>\n",
       "    <tr>\n",
       "      <th>2</th>\n",
       "      <td>5</td>\n",
       "      <td>20</td>\n",
       "      <td>48.266129</td>\n",
       "      <td>-28.266129</td>\n",
       "    </tr>\n",
       "    <tr>\n",
       "      <th>3</th>\n",
       "      <td>3</td>\n",
       "      <td>50</td>\n",
       "      <td>43.024194</td>\n",
       "      <td>6.975806</td>\n",
       "    </tr>\n",
       "    <tr>\n",
       "      <th>4</th>\n",
       "      <td>6</td>\n",
       "      <td>50</td>\n",
       "      <td>50.887097</td>\n",
       "      <td>-0.887097</td>\n",
       "    </tr>\n",
       "  </tbody>\n",
       "</table>\n",
       "</div>"
      ],
      "text/plain": [
       "   Weight  Price  Predicted_Price  Residuals\n",
       "0       2     35        40.403226  -5.403226\n",
       "1       4     60        45.645161  14.354839\n",
       "2       5     20        48.266129 -28.266129\n",
       "3       3     50        43.024194   6.975806\n",
       "4       6     50        50.887097  -0.887097"
      ]
     },
     "execution_count": 23,
     "metadata": {},
     "output_type": "execute_result"
    }
   ],
   "source": [
    "vegetable_df.head()"
   ]
  },
  {
   "cell_type": "code",
   "execution_count": null,
   "id": "3f680a47-d4c8-4991-9ea7-7fd8dc0a6e79",
   "metadata": {},
   "outputs": [],
   "source": []
  },
  {
   "cell_type": "markdown",
   "id": "44441f05-d27b-4b74-86c2-64c8ad14dd01",
   "metadata": {},
   "source": [
    "## Task 03: Calculating MSE, MAE and RSE"
   ]
  },
  {
   "cell_type": "code",
   "execution_count": 24,
   "id": "55d9f611-e9df-4f48-a8d1-7127d5aff931",
   "metadata": {},
   "outputs": [
    {
     "name": "stdout",
     "output_type": "stream",
     "text": [
      "\n",
      "MSE: 167.30990783410135\n",
      "MAE: 9.87327188940092\n",
      "RSE: 3.1421762982685935\n"
     ]
    }
   ],
   "source": [
    "mse = mean_squared_error( vegetable_df['Price'] , vegetable_df['Predicted_Price'])\n",
    "mae = mean_absolute_error(vegetable_df['Price'] , vegetable_df['Predicted_Price'])\n",
    "rse = np.sqrt(mae)\n",
    "print(f'\\nMSE: {mse}\\nMAE: {mae}\\nRSE: {rse}')"
   ]
  },
  {
   "cell_type": "code",
   "execution_count": null,
   "id": "142b8362-efab-4745-9da5-ae20d0cd962b",
   "metadata": {},
   "outputs": [],
   "source": []
  },
  {
   "cell_type": "markdown",
   "id": "0758ba28-8bdc-45a0-a16c-b6949e63c98e",
   "metadata": {},
   "source": [
    "### Best Fit line"
   ]
  },
  {
   "cell_type": "code",
   "execution_count": 25,
   "id": "b17ad728-362e-463e-9b2a-8dd39ae81e80",
   "metadata": {},
   "outputs": [
    {
     "data": {
      "image/png": "[encoded data removed]",
      "text/plain": [
       "<Figure size 640x480 with 1 Axes>"
      ]
     },
     "metadata": {},
     "output_type": "display_data"
    }
   ],
   "source": [
    "sns.scatterplot(data=vegetable_df, x='Weight', y='Price', color='green')\n",
    "sns.regplot(data=vegetable_df, x='Weight', y=\"Predicted_Price\", color='red', line_kws={'color': 'blue'},)\n",
    "\n",
    "plt.show()"
   ]
  },
  {
   "cell_type": "code",
   "execution_count": null,
   "id": "cfc650da-6540-49eb-a50f-4b47f71e0a72",
   "metadata": {},
   "outputs": [],
   "source": []
  },
  {
   "cell_type": "markdown",
   "id": "b5371bea-23fd-47e1-a0d9-ccbb517ab2a5",
   "metadata": {},
   "source": [
    "## Final Task: Exporting dataframe to an Excel file"
   ]
  },
  {
   "cell_type": "code",
   "execution_count": 26,
   "id": "32f79298-f0ee-4aa1-a678-997d377a8df8",
   "metadata": {},
   "outputs": [],
   "source": [
    "vegetable_df.to_excel('Vegetable_Price_Prediction.xlsx', index=False)"
   ]
  },
  {
   "cell_type": "code",
   "execution_count": null,
   "id": "2e2ca9cb-9134-492d-ae39-8da0b8575bc9",
   "metadata": {},
   "outputs": [],
   "source": []
  }
 ],
 "metadata": {
  "kernelspec": {
   "display_name": "Python 3 (ipykernel)",
   "language": "python",
   "name": "python3"
  },
  "language_info": {
   "codemirror_mode": {
    "name": "ipython",
    "version": 3
   },
   "file_extension": ".py",
   "mimetype": "text/x-python",
   "name": "python",
   "nbconvert_exporter": "python",
   "pygments_lexer": "ipython3",
   "version": "3.11.7"
  }
 },
 "nbformat": 4,
 "nbformat_minor": 5
}
